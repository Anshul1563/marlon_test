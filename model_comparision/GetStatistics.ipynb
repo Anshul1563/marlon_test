{
 "cells": [
  {
   "cell_type": "code",
   "execution_count": 5,
   "metadata": {},
   "outputs": [],
   "source": [
    "import pandas as pd\n",
    "import matplotlib.pyplot as plt\n",
    "from matplotlib.backends.backend_pdf import PdfPages\n",
    "import xmltocsv\n",
    "\n"
   ]
  },
  {
   "cell_type": "code",
   "execution_count": 6,
   "metadata": {},
   "outputs": [],
   "source": [
    "# Convert XML to CSV\n",
    "\n",
    "\n",
    "xmltocsv.XMLtoCSV('Summary_E1.xml')\n",
    "xmltocsv.XMLtoCSV('QueueInfo_E1.xml')\n",
    "xmltocsv.XMLtoCSV('VehicleInfo_E1.xml')\n"
   ]
  },
  {
   "attachments": {},
   "cell_type": "markdown",
   "metadata": {},
   "source": [
    "# Summary Information"
   ]
  },
  {
   "cell_type": "code",
   "execution_count": 7,
   "metadata": {},
   "outputs": [],
   "source": [
    "summary_df = pd.read_csv(\"Summary_E1.csv\", delimiter=\";\")"
   ]
  },
  {
   "cell_type": "code",
   "execution_count": 8,
   "metadata": {},
   "outputs": [],
   "source": [
    "timesteps = summary_df[\"step_time\"]\n",
    "mean_speeds = summary_df[\"step_meanSpeed\"]"
   ]
  },
  {
   "attachments": {},
   "cell_type": "markdown",
   "metadata": {},
   "source": [
    "# Queueing Information"
   ]
  },
  {
   "cell_type": "code",
   "execution_count": 9,
   "metadata": {},
   "outputs": [],
   "source": [
    "pre_df = pd.read_csv(\"QueueInfo_E1.csv\", delimiter=\";\")\n",
    "\n",
    "df = pre_df.groupby(\"data_timestep\").sum()\n",
    "df = df.drop(columns=\"lane_id\")\n",
    "df = df.reset_index()\n"
   ]
  },
  {
   "cell_type": "code",
   "execution_count": 10,
   "metadata": {},
   "outputs": [],
   "source": [
    "data_timestep = df[\"data_timestep\"]\n",
    "lane_queueing_length = df[\"lane_queueing_length\"]\n",
    "lane_queueing_time = df[\"lane_queueing_time\"]\n",
    "\n",
    "# Create a PDF file to save the plots\n",
    "with PdfPages(\"plots.pdf\") as pdf:\n",
    "\n",
    "    # Plot data_timestep vs Mean Speed\n",
    "    plt.figure(figsize=(10, 6))\n",
    "    plt.plot(timesteps, mean_speeds)\n",
    "    plt.xlabel(\"Timestep\")\n",
    "    plt.ylabel(\"Mean Speed\")\n",
    "    plt.title(\"Timestep vs Mean Speed\")\n",
    "    plt.grid(True)\n",
    "    pdf.savefig()\n",
    "    plt.close()\n",
    "\n",
    "    # Plot data_timestep vs lane_queueing_length\n",
    "    plt.figure(figsize=(10, 6))\n",
    "    plt.plot(data_timestep, lane_queueing_length)\n",
    "    plt.xlabel(\"Timestep\")\n",
    "    plt.ylabel(\"Queueing Length\")\n",
    "    plt.title(\"Timestep vs Queueing Length\")\n",
    "    plt.grid(True)\n",
    "    pdf.savefig()\n",
    "    plt.close()\n",
    "\n",
    "    # Plot data_timestep vs lane_queueing_time\n",
    "    plt.figure(figsize=(10, 6))\n",
    "    plt.plot(data_timestep, lane_queueing_time)\n",
    "    plt.xlabel(\"Time Step\")\n",
    "    plt.ylabel(\"Queueing Time\")\n",
    "    plt.title(\"Timestep vs Queueing Time\")\n",
    "    plt.grid(True)\n",
    "    pdf.savefig()\n",
    "    plt.close()"
   ]
  },
  {
   "attachments": {},
   "cell_type": "markdown",
   "metadata": {},
   "source": [
    "# Trip Information\n"
   ]
  },
  {
   "cell_type": "code",
   "execution_count": 11,
   "metadata": {},
   "outputs": [],
   "source": [
    "filename = \"VehicleInfo_E1.csv\"\n",
    "df = pd.read_csv(filename, delimiter=\";\")\n",
    "df['tripinfo_averageSpeed'] = df[\"tripinfo_routeLength\"]/df[\"tripinfo_duration\"]"
   ]
  },
  {
   "cell_type": "code",
   "execution_count": 12,
   "metadata": {},
   "outputs": [],
   "source": [
    "Total_Cars = len(df)\n",
    "\n",
    "Total_Delay = df[\"tripinfo_timeLoss\"].sum()\n",
    "Average_Delay = Total_Delay/Total_Cars\n",
    "\n",
    "Total_Waiting_Time = df[\"tripinfo_waitingTime\"].sum()\n",
    "Average_Waiting_Time = Total_Waiting_Time/Total_Cars\n",
    "\n",
    "Total_Speed = df[\"tripinfo_averageSpeed\"].sum()\n",
    "Average_Speed = Total_Speed/Total_Cars\n"
   ]
  },
  {
   "cell_type": "code",
   "execution_count": 13,
   "metadata": {},
   "outputs": [
    {
     "name": "stdout",
     "output_type": "stream",
     "text": [
      "99.81651749856569\n",
      "65.1342512908778\n",
      "8.071303123982798\n"
     ]
    }
   ],
   "source": [
    "print(Average_Delay)\n",
    "print(Average_Waiting_Time)\n",
    "print(Average_Speed)"
   ]
  }
 ],
 "metadata": {
  "kernelspec": {
   "display_name": "Python 3",
   "language": "python",
   "name": "python3"
  },
  "language_info": {
   "codemirror_mode": {
    "name": "ipython",
    "version": 3
   },
   "file_extension": ".py",
   "mimetype": "text/x-python",
   "name": "python",
   "nbconvert_exporter": "python",
   "pygments_lexer": "ipython3",
   "version": "3.11.3"
  },
  "orig_nbformat": 4
 },
 "nbformat": 4,
 "nbformat_minor": 2
}
